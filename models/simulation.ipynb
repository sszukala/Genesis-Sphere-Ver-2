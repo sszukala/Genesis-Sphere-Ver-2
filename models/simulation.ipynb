{
 "cells": [
  {
   "cell_type": "markdown",
   "id": "44d9dc60",
   "metadata": {},
   "source": [
    "# Genesis-Sphere Computational Model Exploration\n",
    "\n",
    "This notebook provides an interactive environment to explore the computational model of the Genesis-Sphere framework. You can experiment with different parameters, visualize results, and run simulations interactively."
   ]
  },
  {
   "cell_type": "markdown",
   "id": "6bd4d859",
   "metadata": {},
   "source": [
    "## Setup\n",
    "First, let's import the Genesis-Sphere model and other necessary libraries."
   ]
  },
  {
   "cell_type": "code",
   "execution_count": null,
   "id": "dce5b9a5",
   "metadata": {},
   "outputs": [],
   "source": [
    "import sys\n",
    "import os\n",
    "import numpy as np\n",
    "import matplotlib.pyplot as plt\n",
    "from ipywidgets import interact, interactive, fixed, widgets\n",
    "\n",
    "# Import the Genesis-Sphere model\n",
    "from genesis_model import GenesisSphereModel\n",
    "\n",
    "# Configure matplotlib for better display in the notebook\n",
    "%matplotlib inline\n",
    "plt.style.use('seaborn-whitegrid')\n",
    "plt.rcParams['figure.figsize'] = (12, 8)"
   ]
  },
  {
   "cell_type": "markdown",
   "id": "4202542e",
   "metadata": {},
   "source": [
    "## 1. Basic Model Exploration\n",
    "\n",
    "Create an instance of the Genesis-Sphere model and explore its basic functions."
   ]
  },
  {
   "cell_type": "code",
   "execution_count": null,
   "id": "a5990b52",
   "metadata": {},
   "outputs": [],
   "source": [
    "# Create a model with default parameters\n",
    "model = GenesisSphereModel()\n",
    "\n",
    "# Print current model parameters\n",
    "print(\"Current model parameters:\")\n",
    "print(f\"alpha = {model.alpha}  (Spatial dimension expansion coefficient)\")\n",
    "print(f\"beta = {model.beta}  (Temporal damping factor)\")\n",
    "print(f\"omega = {model.omega}  (Angular frequency for sinusoidal projections)\")\n",
    "print(f\"epsilon = {model.epsilon}  (Small constant to prevent division by zero)\")"
   ]
  },
  {
   "cell_type": "code",
   "execution_count": null,
   "id": "bcf1e6f7",
   "metadata": {},
   "outputs": [],
   "source": [
    "# Generate plots of all functions\n",
    "t = np.linspace(-12, 12, 1000)\n",
    "fig = model.plot_all()\n",
    "plt.show()"
   ]
  },
  {
   "cell_type": "markdown",
   "id": "443b5b54",
   "metadata": {},
   "source": [
    "## 2. Interactive Parameter Exploration\n",
    "\n",
    "Use interactive sliders to adjust model parameters and see real-time changes in the model's behavior."
   ]
  },
  {
   "cell_type": "code",
   "execution_count": null,
   "id": "d2536d38",
   "metadata": {},
   "outputs": [],
   "source": [
    "def explore_parameters(alpha=0.02, beta=0.8, omega=1.0, epsilon=0.1):\n",
    "    \"\"\"Interactive function to explore model parameters\"\"\"\n",
    "    # Create model with selected parameters\n",
    "    model = GenesisSphereModel(alpha=alpha, beta=beta, omega=omega, epsilon=epsilon)\n",
    "    \n",
    "    # Generate and show plot\n",
    "    fig = model.plot_all()\n",
    "    plt.suptitle(f\"Genesis-Sphere Model (α={alpha:.3f}, β={beta:.3f}, ω={omega:.3f}, ε={epsilon:.3f})\")\n",
    "    plt.tight_layout(rect=[0, 0, 1, 0.96])\n",
    "    plt.show()\n",
    "\n",
    "# Create interactive widgets\n",
    "interact(explore_parameters,\n",
    "         alpha=widgets.FloatSlider(min=0.005, max=0.1, step=0.005, value=0.02, description='Alpha (α):'),\n",
    "         beta=widgets.FloatSlider(min=0.2, max=2.0, step=0.1, value=0.8, description='Beta (β):'),\n",
    "         omega=widgets.FloatSlider(min=0.5, max=2.0, step=0.1, value=1.0, description='Omega (ω):'),\n",
    "         epsilon=widgets.FloatSlider(min=0.01, max=0.5, step=0.01, value=0.1, description='Epsilon (ε):'));"
   ]
  },
  {
   "cell_type": "markdown",
   "id": "8b987a28",
   "metadata": {},
   "source": [
    "## 3. Comparing Multiple Parameter Sets\n",
    "\n",
    "Compare different parameter sets to analyze how they affect specific model functions."
   ]
  },
  {
   "cell_type": "code",
   "execution_count": null,
   "id": "fdbd7ec0",
   "metadata": {},
   "outputs": [],
   "source": [
    "def compare_parameter_sets(function_name='density'):\n",
    "    \"\"\"Compare how different parameter sets affect a specific function\"\"\"\n",
    "    # Create parameter sets\n",
    "    parameter_sets = {\n",
    "        \"Standard\": {\"alpha\": 0.02, \"beta\": 0.8, \"omega\": 1.0, \"epsilon\": 0.1},\n",
    "        \"High Density\": {\"alpha\": 0.05, \"beta\": 0.8, \"omega\": 1.0, \"epsilon\": 0.1},\n",
    "        \"Strong Time Dilation\": {\"alpha\": 0.02, \"beta\": 1.5, \"omega\": 1.0, \"epsilon\": 0.1},\n",
    "        \"Rapid Oscillation\": {\"alpha\": 0.02, \"beta\": 0.8, \"omega\": 2.0, \"epsilon\": 0.1}\n",
    "    }\n",
    "    \n",
    "    # Time domain\n",
    "    t = np.linspace(-12, 12, 1000)\n",
    "    \n",
    "    # Create figure\n",
    "    plt.figure(figsize=(12, 6))\n",
    "    \n",
    "    # Calculate and plot for each parameter set\n",
    "    for name, params in parameter_sets.items():\n",
    "        model = GenesisSphereModel(**params)\n",
    "        results = model.evaluate_all(t)\n",
    "        plt.plot(t, results[function_name], label=name)\n",
    "    \n",
    "    # Add labels and legend\n",
    "    plt.title(f\"{function_name.capitalize()} Function Comparison\")\n",
    "    plt.xlabel(\"Time (t)\")\n",
    "    plt.ylabel(f\"{function_name.capitalize()} Value\")\n",
    "    plt.legend()\n",
    "    plt.grid(True)\n",
    "    plt.show()\n",
    "\n",
    "# Create interactive widget\n",
    "interact(compare_parameter_sets,\n",
    "         function_name=widgets.Dropdown(\n",
    "             options=['projection', 'expansion', 'density', 'temporal_flow', 'velocity', 'pressure'],\n",
    "             value='density',\n",
    "             description='Function:'\n",
    "         ));"
   ]
  },
  {
   "cell_type": "markdown",
   "id": "919fa7fc",
   "metadata": {},
   "source": [
    "## 4. Advanced Exploration: Parameter Space Mapping\n",
    "\n",
    "Create a 2D map of how two parameters jointly affect a model output."
   ]
  },
  {
   "cell_type": "code",
   "execution_count": null,
   "id": "81d2f951",
   "metadata": {},
   "outputs": [],
   "source": [
    "def generate_parameter_space_map(function_name='density', t_point=0):\n",
    "    \"\"\"Generate a 2D map of how alpha and beta jointly affect a model function\"\"\"\n",
    "    # Parameter ranges\n",
    "    alpha_range = np.linspace(0.01, 0.1, 20)\n",
    "    beta_range = np.linspace(0.2, 2.0, 20)\n",
    "    \n",
    "    # Create meshgrid\n",
    "    Alpha, Beta = np.meshgrid(alpha_range, beta_range)\n",
    "    \n",
    "    # Create output array\n",
    "    Z = np.zeros_like(Alpha)\n",
    "    \n",
    "    # Default model for fixed parameters\n",
    "    model = GenesisSphereModel()\n",
    "    \n",
    "    # Calculate function value at t_point for each parameter combination\n",
    "    for i in range(len(beta_range)):\n",
    "        for j in range(len(alpha_range)):\n",
    "            model.alpha = alpha_range[j]\n",
    "            model.beta = beta_range[i]\n",
    "            \n",
    "            # Calculate function value at the specified point\n",
    "            result = model.evaluate_all(np.array([t_point]))\n",
    "            Z[i, j] = result[function_name][0]\n",
    "    \n",
    "    # Create figure\n",
    "    plt.figure(figsize=(10, 8))\n",
    "    \n",
    "    # Create contour plot\n",
    "    contour = plt.contourf(Alpha, Beta, Z, 20, cmap='viridis')\n",
    "    plt.colorbar(label=f\"{function_name.capitalize()} Value\")\n",
    "    \n",
    "    # Add labels\n",
    "    plt.xlabel('Alpha (α)')\n",
    "    plt.ylabel('Beta (β)')\n",
    "    plt.title(f\"Parameter Space Map: {function_name.capitalize()} at t={t_point}\")\n",
    "    plt.grid(True, alpha=0.3)\n",
    "    plt.show()\n",
    "\n",
    "# Create interactive widget\n",
    "interact(generate_parameter_space_map,\n",
    "         function_name=widgets.Dropdown(\n",
    "             options=['density', 'temporal_flow', 'velocity', 'pressure'],\n",
    "             value='density',\n",
    "             description='Function:'\n",
    "         ),\n",
    "         t_point=widgets.FloatSlider(min=-10, max=10, step=0.5, value=0, description='Time Point:'));"
   ]
  },
  {
   "cell_type": "markdown",
   "id": "577f6c54",
   "metadata": {},
   "source": [
    "## 5. Creating a Custom Scenario\n",
    "\n",
    "Define your own custom scenario by setting parameters and running a detailed analysis."
   ]
  },
  {
   "cell_type": "code",
   "execution_count": null,
   "id": "817867ad",
   "metadata": {},
   "outputs": [],
   "source": [
    "def custom_scenario(scenario_name, alpha, beta, omega, epsilon):\n",
    "    \"\"\"Create and analyze a custom scenario\"\"\"\n",
    "    # Create model with custom parameters\n",
    "    model = GenesisSphereModel(alpha=alpha, beta=beta, omega=omega, epsilon=epsilon)\n",
    "    \n",
    "    # Print scenario details\n",
    "    print(f\"\\n=== Scenario: {scenario_name} ===\\n\")\n",
    "    print(f\"Parameters:\")\n",
    "    print(f\"alpha = {alpha:.4f}  (Spatial dimension expansion coefficient)\")\n",
    "    print(f\"beta = {beta:.4f}  (Temporal damping factor)\")\n",
    "    print(f\"omega = {omega:.4f}  (Angular frequency for sinusoidal projections)\")\n",
    "    print(f\"epsilon = {epsilon:.4f}  (Small constant to prevent division by zero)\")\n",
    "    \n",
    "    # Time domain\n",
    "    t = np.linspace(-12, 12, 1000)\n",
    "    \n",
    "    # Calculate all functions\n",
    "    results = model.evaluate_all(t)\n",
    "    \n",
    "    # Extract key metrics\n",
    "    max_density = np.max(results['density'])\n",
    "    min_tf = np.min(results['temporal_flow'])\n",
    "    density_oscillation = np.std(results['density'])\n",
    "    \n",
    "    print(f\"\\nKey Metrics:\")\n",
    "    print(f\"Maximum Density: {max_density:.4f}\")\n",
    "    print(f\"Minimum Temporal Flow: {min_tf:.4f}\")\n",
    "    print(f\"Density Oscillation (std): {density_oscillation:.4f}\")\n",
    "    \n",
    "    # Plot results\n",
    "    fig = model.plot_all()\n",
    "    plt.suptitle(f\"Scenario: {scenario_name}\", fontsize=16)\n",
    "    plt.tight_layout(rect=[0, 0, 1, 0.96])\n",
    "    plt.show()\n",
    "    \n",
    "    # Return the model and results for further analysis if needed\n",
    "    return model, results\n",
    "\n",
    "# Define a custom scenario\n",
    "my_scenario_params = {\n",
    "    \"scenario_name\": \"Custom Universe Model\",\n",
    "    \"alpha\": 0.03,\n",
    "    \"beta\": 1.2,\n",
    "    \"omega\": 1.5,\n",
    "    \"epsilon\": 0.08\n",
    "}\n",
    "\n",
    "# Run the scenario analysis\n",
    "custom_model, custom_results = custom_scenario(**my_scenario_params)"
   ]
  },
  {
   "cell_type": "markdown",
   "id": "f869730d",
   "metadata": {},
   "source": [
    "## 6. Saving and Loading Model States\n",
    "\n",
    "Demonstrate how to save and load model states for reproducibility."
   ]
  },
  {
   "cell_type": "code",
   "execution_count": null,
   "id": "4c30a730",
   "metadata": {},
   "outputs": [],
   "source": [
    "# Save the custom model state\n",
    "custom_state = custom_model.save_state()\n",
    "print(\"Saved model state:\")\n",
    "print(custom_state)\n",
    "\n",
    "# Create a new model with default parameters\n",
    "new_model = GenesisSphereModel()\n",
    "print(\"\\nNew model parameters (before loading):\")\n",
    "print(new_model.save_state())\n",
    "\n",
    "# Load the saved state\n",
    "new_model.load_state(custom_state)\n",
    "print(\"\\nNew model parameters (after loading):\")\n",
    "print(new_model.save_state())\n",
    "\n",
    "# Verify the model produces the same results\n",
    "t = np.linspace(-12, 12, 10)  # Small sample for verification\n",
    "original_results = custom_model.evaluate_all(t)\n",
    "loaded_results = new_model.evaluate_all(t)\n",
    "\n",
    "print(\"\\nVerification:\")\n",
    "print(f\"Original density at t=0: {original_results['density'][5]:.6f}\")\n",
    "print(f\"Loaded density at t=0: {loaded_results['density'][5]:.6f}\")"
   ]
  },
  {
   "cell_type": "markdown",
   "id": "d181f9eb",
   "metadata": {},
   "source": [
    "## 7. Conclusion\n",
    "\n",
    "The Genesis-Sphere computational model provides a flexible framework for exploring space-time density and temporal flow physics. Use this notebook as a starting point for your own investigations and parameter tuning.\n",
    "\n",
    "Some suggested next steps:\n",
    "\n",
    "1. Create your own scenarios with different parameter combinations\n",
    "2. Implement custom visualization techniques\n",
    "3. Extend the model with additional physical quantities\n",
    "4. Compare with experimental or observational data"
   ]
  }
 ],
 "metadata": {
  "language_info": {
   "name": "python"
  }
 },
 "nbformat": 4,
 "nbformat_minor": 5
}
